{
 "cells": [
  {
   "cell_type": "code",
   "execution_count": 6,
   "id": "b3549ac4-e41e-49a9-8df3-fec2f7939c94",
   "metadata": {},
   "outputs": [],
   "source": [
    "def f1(x) :\n",
    "    return x ** 2, x * x"
   ]
  },
  {
   "cell_type": "code",
   "execution_count": 7,
   "id": "e7245bdf-39be-45f0-a94c-a32b84b6375d",
   "metadata": {},
   "outputs": [
    {
     "name": "stdout",
     "output_type": "stream",
     "text": [
      "(4, 4)\n"
     ]
    }
   ],
   "source": [
    "print (f1(2))"
   ]
  },
  {
   "cell_type": "code",
   "execution_count": 8,
   "id": "49b22516-e1bb-4d37-aaf6-4aca5058a1e6",
   "metadata": {},
   "outputs": [],
   "source": [
    "def f2(x) :\n",
    "    return str(x) + 'a'"
   ]
  },
  {
   "cell_type": "code",
   "execution_count": 12,
   "id": "1f6bee07-0d12-4375-aeda-e8e3ad639ad1",
   "metadata": {},
   "outputs": [
    {
     "name": "stdout",
     "output_type": "stream",
     "text": [
      "6a\n"
     ]
    }
   ],
   "source": [
    "print (f2(6))"
   ]
  },
  {
   "cell_type": "code",
   "execution_count": 15,
   "id": "d47d0618-8149-4e70-a993-76c9fa656bb0",
   "metadata": {},
   "outputs": [
    {
     "name": "stdout",
     "output_type": "stream",
     "text": [
      "0\n",
      "1\n",
      "2\n",
      "3\n",
      "4\n",
      "5\n",
      "6\n",
      "7\n",
      "8\n",
      "9\n"
     ]
    }
   ],
   "source": [
    "for i in  range (10):\n",
    "    print(i)"
   ]
  },
  {
   "cell_type": "code",
   "execution_count": null,
   "id": "7f72dede-a8f1-41ce-add1-64349a4f8473",
   "metadata": {},
   "outputs": [],
   "source": []
  }
 ],
 "metadata": {
  "kernelspec": {
   "display_name": "Python 3 (ipykernel)",
   "language": "python",
   "name": "python3"
  },
  "language_info": {
   "codemirror_mode": {
    "name": "ipython",
    "version": 3
   },
   "file_extension": ".py",
   "mimetype": "text/x-python",
   "name": "python",
   "nbconvert_exporter": "python",
   "pygments_lexer": "ipython3",
   "version": "3.10.12"
  }
 },
 "nbformat": 4,
 "nbformat_minor": 5
}
